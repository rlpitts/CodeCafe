{
 "cells": [
  {
   "cell_type": "markdown",
   "metadata": {},
   "source": [
    "# Intro to FITS files for Non-Observers\n",
    "\n",
    "The vast majority of astronomical images are output as FITS (Flexible Image Transport System) files, and have been for decades. This is one of those rare cases in astronomy where something stuck around because it was objectively an effective system, not just because it worked at the time and then fossilized into the institutional bedrock.\n",
    "\n",
    "The standards of FITS formatting are maintained and recorded here, if you want to read more or have a reference on hand: https://fits.gsfc.nasa.gov/fits_home.html\n",
    "\n",
    "The basic unit of a FITS fits is creatively called the HDU (Header Data Unit), consisting of the:\n",
    "* Data: Usually an image, but may also be a cube, 1D spectrum, or binary data table\n",
    "* Header: Metadata, a (potentially very long) series of key-value pairs containing (hopefully) everything you need to know about the image in order to work with it.\n",
    "\n",
    "Most FITS images only have one HDU, but you can have multiple HDUs packaged in one file. These are called multi-extension FITS or MEFs. Each HDU in a MEF can be accessed by index or sometimes by name (key) in AstroPy. However, many older software packages won't work with MEFs, and DS9 does not appear to be able to let you view extensions other than the first image HDU (although it does let you toggle between views of the image header and the Primary HDU header, if those are different)."
   ]
  },
  {
   "cell_type": "code",
   "execution_count": 22,
   "metadata": {},
   "outputs": [
    {
     "name": "stdout",
     "output_type": "stream",
     "text": [
      "Filename: /home/pitts/Documents/postdoc/1342211307/level3/herschel.ia.pal.MapContext/extdPLW/hspireplw145_30pxmp_2039_p4416_1456959472545.fits.gz\n",
      "No.    Name      Ver    Type      Cards   Dimensions   Format\n",
      "  0  PRIMARY       1 PrimaryHDU     283   ()      \n",
      "  1  image         1 ImageHDU        49   (1806, 2118)   float64   \n",
      "  2  flag          1 ImageHDU        25   (1806, 2118)   int16   \n",
      "  3  coverage      1 ImageHDU        47   (1806, 2118)   float64   \n",
      "  4  error         1 ImageHDU        47   (1806, 2118)   float64   \n",
      "  5  History       1 ImageHDU        23   ()      \n",
      "  6  HistoryScript    1 BinTableHDU     39   7R x 1C   [65A]   \n",
      "  7  HistoryTasks    1 BinTableHDU     46   1R x 4C   [1K, 6A, 1K, 9A]   \n",
      "  8  HistoryParameters    1 BinTableHDU     74   3R x 10C   [1K, 10A, 7A, 14A, 1L, 1K, 1L, 38A, 4A, 0A]   \n",
      "None\n"
     ]
    }
   ],
   "source": [
    "import numpy as np\n",
    "import astropy.io.fits as fits\n",
    "\n",
    "#Sample Herschel Image (same as upload)\n",
    "hdu = fits.open('/home/pitts/Documents/postdoc/1342211307/level3/herschel.ia.pal.MapContext/extdPLW/hspireplw145_30pxmp_2039_p4416_1456959472545.fits.gz')\n",
    "#View file contents\n",
    "print(hdu.info())"
   ]
  },
  {
   "cell_type": "markdown",
   "metadata": {},
   "source": [
    "Header and data of any given HDU may be accessed the way one normally accesses python variable attributes, that is by adding .header or .data like so:"
   ]
  },
  {
   "cell_type": "code",
   "execution_count": 2,
   "metadata": {},
   "outputs": [],
   "source": [
    "hdr = hdu['image'].header\n",
    "dat = hdu['image'].data\n",
    "hdr0 = hdu[0].header \n",
    "#because Herschel data traded convenience for compactness and put some \n",
    "# of the data we might need for the image in the PrimaryHDU header"
   ]
  },
  {
   "cell_type": "markdown",
   "metadata": {},
   "source": [
    "Note that HDUs are indexed even if there's only one in the file. Unless you do something like hdu=fits.open('filename')[0], you can never just type HDU.data or HDU.header.\n",
    "\n",
    "## Units and Coordinates\n",
    "\n",
    "The most important things that FITS headers tell observers are:\n",
    "* The units of the data\n",
    "* How the data maps onto the sky\n",
    "\n",
    "These data are stored in key-value pairs, where the keys are called \"cards\". The values are accessed the same way you access entries in a python dictionary, except that header cards are *not* case-sensitive."
   ]
  },
  {
   "cell_type": "code",
   "execution_count": 23,
   "metadata": {},
   "outputs": [
    {
     "name": "stdout",
     "output_type": "stream",
     "text": [
      "MJy/sr\n"
     ]
    }
   ],
   "source": [
    "print(hdr['bunit'])"
   ]
  },
  {
   "cell_type": "markdown",
   "metadata": {},
   "source": [
    "Note that images may have many, many different possible intensity units, some of which require additional parameters. E.g. in MIR, FIR, submm, and radio images, Jy/beam or mJy/beam are common units, which require the cards 'BMAJ', 'BMIN', and 'BPA' to respectively specify the FWHM of the major and minor axes and position angle of the beam/PSF if it is not radially symmetric.\n",
    "\n",
    "The brilliant minds behind AstroPy (not being sarcastic) also created a way to let us call groups of header cards by glob pattern:"
   ]
  },
  {
   "cell_type": "code",
   "execution_count": 8,
   "metadata": {},
   "outputs": [
    {
     "name": "stdout",
     "output_type": "stream",
     "text": [
      "CDELT1  =   -0.003888888888889 / [] WCS: Pixel scale axis 1, unit=Angle         CDELT2  =    0.003888888888889 / [] WCS: Pixel scale axis 2, unit=Angle         END                                                                                                                                                                                                                                                                                                                                                                                                                                                                                                                                                                                                                                                                                                                                                                                                                                                                                                                                                                                                                                                                                                                                                                                                                                                                                                                                                                                                                                                                                                                                                                                                                                                                                                                                                                                                                                                                                                                                                                                                                                                                                                                                                                                                                                                                                                                                                                                                                                                                                                                                                                                                                                                                                                                                                                                                                             \n"
     ]
    }
   ],
   "source": [
    "print(hdr['cd*'])"
   ]
  },
  {
   "cell_type": "markdown",
   "metadata": {},
   "source": [
    "That brings me to one of the most important aspects of navigating FITS headers, and one of the greatest sources of frustration when having to work with data from different telescopes: specification of a World Coordinate System (WCS)\n",
    "\n",
    "For a FITS image to correctly encode the position, scale, and orientation of the target on the sky, the following information must be in the header in some form:\n",
    "1. The WCS reference frame (i.e. are you working in RA/Dec, GLAT/GLON, etc?), including epoch/equinox\n",
    "2. The WCS projection method (since the plane of the sky is spherical, not flat)\n",
    "3. The position of the reference point in pixel coordinates\n",
    "4. The position of the reference point in sky coordinates\n",
    "5. The angular height and width of each pixel (a.k.a. the Pixel Scale)\n",
    "6. The rotation angle of the image relative to North in your WCS reference frame\n",
    "7. The specs for any distortion or warping of the image plane due to the optics\n",
    "8. Units, reference pixel(s), reference position(s), pixel scale(s), and any distortion parameters for any additional axes\n",
    "\n",
    "The WCS reference frame and projection method are usually recorded in the same set of keywords, 'CTYPE1' and 'CTYPE2', with the projection method noted after the unit and a few of hyphens. The header should also have the epoch or equinox recorded with the 'epoch' or 'equinox' card."
   ]
  },
  {
   "cell_type": "code",
   "execution_count": 42,
   "metadata": {},
   "outputs": [
    {
     "name": "stdout",
     "output_type": "stream",
     "text": [
      "CTYPE1  = 'RA---ARC'           / WCS: Projection type axis 1, default=\"LINEAR\"  CTYPE2  = 'DEC--ARC'           / WCS: Projection type axis 2, default=\"LINEAR\"  END                                                                                                                                                                                                                                                                                                                                                                                                                                                                                                                                                                                                                                                                                                                                                                                                                                                                                                                                                                                                                                                                                                                                                                                                                                                                                                                                                                                                                                                                                                                                                                                                                                                                                                                                                                                                                                                                                                                                                                                                                                                                                                                                                                                                                                                                                                                                                                                                                                                                                                                                                                                                                                                                                                                                                                                                                             \n",
      "Epoch =  2000.0\n"
     ]
    }
   ],
   "source": [
    "print(hdr['ctype*'])\n",
    "print('Epoch = ', hdr['epoch'] if 'epoch' in hdr.cards else hdr['equinox'])"
   ]
  },
  {
   "cell_type": "markdown",
   "metadata": {},
   "source": [
    "The equitorial system in particular has 3 variants, any of which can be used with any epoch: ICRS, FK5, and FK4. FK5 and ICRS are the main ones in use today, and while the discrepancies are pretty small, they can matter at high resolutions. Thus, the header should specify which RA/Dec system was used with the 'RADESYS' card.\n",
    "\n",
    "I'm not going to cover projection methods because I've never had to work with images large enough for them to matter, but the most common ones I've seen are gnomonic/tangent (TAN), orthographic (SIN), Cartesian (CAR), and this one, zenithal/azimuthal equidistant (ARC). A fuller list of supported projections can be found here: https://danmoser.github.io/notes/gai_fits-imgs.html\n",
    "\n",
    "The position of the reference point in pixel coordinates is encoded in the header cards 'CRPIX1' and 'CRPIX2'. Note that this reference position can be a float. A reference position near the center of an image is often preferred to minimize inaccuracies due to distortions.\n",
    "\n",
    "The position of the reference pixel in sky coordinates is encoded in the header cards 'CRVAL1' and 'CRVAL2'. Note that the sky coordinate position is usually given in units of degrees."
   ]
  },
  {
   "cell_type": "code",
   "execution_count": 24,
   "metadata": {},
   "outputs": [
    {
     "name": "stdout",
     "output_type": "stream",
     "text": [
      "CRPIX1  =                903.0 / [] WCS: Reference pixel position axis 1, uni&  CRPIX2  =                  0.0 / [] WCS: Reference pixel position axis 2, uni&  END                                                                                                                                                                                                                                                                                                                                                                                                                                                                                                                                                                                                                                                                                                                                                                                                                                                                                                                                                                                                                                                                                                                                                                                                                                                                                                                                                                                                                                                                                                                                                                                                                                                                                                                                                                                                                                                                                                                                                                                                                                                                                                                                                                                                                                                                                                                                                                                                                                                                                                                                                                                                                                                                                                                                                                                                                             \n",
      "CRVAL1  =     307.822519237184 / [] WCS: First coordinate of reference pixel    CRVAL2  =   40.485796021314286 / [] WCS: Second coordinate of reference pixel   END                                                                                                                                                                                                                                                                                                                                                                                                                                                                                                                                                                                                                                                                                                                                                                                                                                                                                                                                                                                                                                                                                                                                                                                                                                                                                                                                                                                                                                                                                                                                                                                                                                                                                                                                                                                                                                                                                                                                                                                                                                                                                                                                                                                                                                                                                                                                                                                                                                                                                                                                                                                                                                                                                                                                                                                                                             \n"
     ]
    }
   ],
   "source": [
    "print(hdr['crpix*'])\n",
    "print(hdr['crval*'])"
   ]
  },
  {
   "cell_type": "markdown",
   "metadata": {},
   "source": [
    "There are several different ways to specify the pixel dimensions, rotation angle, and distortions, and sometimes you can't keep them all separate.\n",
    "\n",
    "The oldest and most common method is to encode the pixel dimensions in 'CDELTi' cards, the rotation as 'CROTA2', and distortion parameters in cards that depend on the form of the distortion model (PC matrices are the only ones I've encountered so far).\n",
    "\n",
    "Another form is to use a CD matrix, which combines the rotation and pixel dimensions in ways that allow pixels to have shear."
   ]
  },
  {
   "cell_type": "code",
   "execution_count": 21,
   "metadata": {},
   "outputs": [
    {
     "name": "stdout",
     "output_type": "stream",
     "text": [
      "[CDELT1  =   -0.003888888888889 / [] WCS: Pixel scale axis 1, unit=Angle         \n",
      "CDELT2  =    0.003888888888889 / [] WCS: Pixel scale axis 2, unit=Angle         , -22.267708550513095]\n"
     ]
    }
   ],
   "source": [
    "print(hdr['CD*'] if 'CD1_1' in hdr.cards else [hdr['cdelt*'], hdr['crota2']])"
   ]
  },
  {
   "cell_type": "markdown",
   "metadata": {},
   "source": [
    "Some software packages prefer CD matrices while others favor the older notation. Converting between them is tedious but not difficult. The equations can be found here on pages 4 and 5: https://www.cfa.harvard.edu/~jzhao/SMA-FITS-CASA/docs/wcs88.pdf\n",
    "\n",
    "If your image has 3+ axes, additional axes will be specified similarly to the first 2 axes. For example, let's say you have an image of HCO+ emission from a handful of clouds at velocities relative to the Local Standard of Rest (v_lsr) for 8 slices from -32 to +7 km/s (inclusive), each slice integrated over 5 km/s. Let's further say that your reference velocity is 0 km/s. Then the parameters needed to describe the third axis might look like this:\n",
    ">NAXIS3 = 8\n",
    ">\n",
    ">CTYPE3 = 'VELO'\n",
    ">\n",
    ">CUNIT3 = 'km/s'\n",
    ">\n",
    ">CRPIX3 = 6.5000000000E+00\n",
    ">\n",
    ">CRVAL3 = 0.0000000000E+00   /V_LSR (km/s)\n",
    ">\n",
    ">CDELT3 = 5.0000000000E+00   /Velocity width (km/s)\n",
    "\n",
    "Notice that \"CUNIT3\" card (and not just the resemblance to incels' favorite slur). CUNIT is not required, but it is helpful to let you or your image's users look up the units of each axis. If there's no such card, though, the .comments attribute of the header can let you search the comments of a given card for, say, units. Be careful though---the index doesn't go where you'd expect:"
   ]
  },
  {
   "cell_type": "code",
   "execution_count": 45,
   "metadata": {},
   "outputs": [
    {
     "name": "stdout",
     "output_type": "stream",
     "text": [
      "[] WCS: Pixel scale axis 1, unit=Angle\n"
     ]
    }
   ],
   "source": [
    "print(hdr.comments['cdelt1'])"
   ]
  },
  {
   "cell_type": "markdown",
   "metadata": {},
   "source": [
    "Knowing how to set more complex distortions is, in my limited experience, usually left to the instrument designers. The only time you should touch them is if you have to plot a 2D image or slice of an image, in which case you may have to delete them from a copy of the header, along with any evidence that the image may have had >2 axes, in order for Matplotlib to accept the header copy as a valid axis transformation.\n",
    "\n",
    "## Dude, Where's My Spex?\n",
    "FITS headers are a lot like documentation for code, or the markdown language for python notebooks: they're only as good as the writer makes them.\n",
    "\n",
    "**FITS headers do not write or update themselves.**\n",
    "\n",
    "Every reduction pipeline has its own idiosyncracies in what data are recorded and under what card. Cards like NAXISi, CRPIXi, CRVALi, and CTYPEi are pretty much always included. However, I've seen *many* other essential header cards forgotten. Fo instance, ideally, all observatories would record the size of their spatial resolution elements (distinct from pixels, of which each resolution element should contain a minimum of 2 for Nyquist sampling, and ideally more like 3-5) in the headers along with everything else. In practice, only radio observatories generally seem to be good about doing that, which is super annoying because you need that information for almost any kind of flux calculation. Same for the BUNIT card.\n",
    "\n",
    "Fortunately, most observatories at least make their resolutions and standard flux units readily available and searchable online. All you have to do is add it to your image header. Adding header cards is easy, and can be done one of two ways."
   ]
  },
  {
   "cell_type": "code",
   "execution_count": 48,
   "metadata": {},
   "outputs": [
    {
     "data": {
      "text/plain": [
       "False"
      ]
     },
     "execution_count": 48,
     "metadata": {},
     "output_type": "execute_result"
    }
   ],
   "source": [
    "# Check if beam parameters are in header\n",
    "'BPA' in hdr.cards"
   ]
  },
  {
   "cell_type": "code",
   "execution_count": 46,
   "metadata": {},
   "outputs": [],
   "source": [
    "hdr.set('bmaj',35.4,'unit = arcsec', after='equinox')\n",
    "hdr.set('bmin',31.2,'unit = arcsec', after='bmaj')\n",
    "hdr.set('bpa',63.0,'unit = deg', after='bmin')\n",
    "# Don't quote me on these values; I'm working from memory\n",
    "# SPIRE images are within 10% of circular, so you could just set BMIN=BMAJ and BPA=0.\n",
    "# I'm doing otherwise just to make a point."
   ]
  },
  {
   "cell_type": "code",
   "execution_count": 47,
   "metadata": {},
   "outputs": [
    {
     "data": {
      "text/plain": [
       "'unit = arcsec'"
      ]
     },
     "execution_count": 47,
     "metadata": {},
     "output_type": "execute_result"
    }
   ],
   "source": [
    "hdr.comments['bmaj']"
   ]
  },
  {
   "cell_type": "markdown",
   "metadata": {},
   "source": [
    "The other way to set a header value is just to set *header*['card']=value, like you're adding a key-value pair to a dictionary called *header*. This method is good for modifying existing header values in-place, but not so good for adding new cards because they are automatically appended to the end, after comments and history entries. *Header.set()* is better for creating and setting the value of a new card because you can control where in the header it is inserted with the kwargs 'before' or 'after'."
   ]
  },
  {
   "cell_type": "code",
   "execution_count": 40,
   "metadata": {},
   "outputs": [
    {
     "name": "stdout",
     "output_type": "stream",
     "text": [
      "Filename: (No file associated with this HDUList)\n",
      "No.    Name      Ver    Type      Cards   Dimensions   Format\n",
      "  0  PRIMARY       1 PrimaryHDU       6   (900, 900)   float64   \n",
      "None\n"
     ]
    }
   ],
   "source": [
    "newhdu=fits.PrimaryHDU(data=dat[:900,:900])\n",
    "newhdulist = fits.HDUList([newhdu])\n",
    "print(newhdulist.info())"
   ]
  },
  {
   "cell_type": "code",
   "execution_count": 41,
   "metadata": {},
   "outputs": [
    {
     "data": {
      "text/plain": [
       "SIMPLE  =                    T / conforms to FITS standard                      \n",
       "BITPIX  =                  -64 / array data type                                \n",
       "NAXIS   =                    2 / number of array dimensions                     \n",
       "NAXIS1  =                  900                                                  \n",
       "NAXIS2  =                  900                                                  \n",
       "EXTEND  =                    T                                                  "
      ]
     },
     "execution_count": 41,
     "metadata": {},
     "output_type": "execute_result"
    }
   ],
   "source": [
    "newhdu.header"
   ]
  },
  {
   "cell_type": "code",
   "execution_count": null,
   "metadata": {},
   "outputs": [],
   "source": []
  }
 ],
 "metadata": {
  "kernelspec": {
   "display_name": "Python 3 (ipykernel)",
   "language": "python",
   "name": "python3"
  },
  "language_info": {
   "codemirror_mode": {
    "name": "ipython",
    "version": 3
   },
   "file_extension": ".py",
   "mimetype": "text/x-python",
   "name": "python",
   "nbconvert_exporter": "python",
   "pygments_lexer": "ipython3",
   "version": "3.9.15"
  }
 },
 "nbformat": 4,
 "nbformat_minor": 4
}
