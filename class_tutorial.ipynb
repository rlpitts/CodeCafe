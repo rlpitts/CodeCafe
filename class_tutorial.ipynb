{
 "cells": [
  {
   "cell_type": "markdown",
   "metadata": {},
   "source": [
    "# A Brief Intro to Python Classes\n",
    "\n",
    "## Basic terminology\n",
    "\n",
    "A \"class\" is essentially a template for 1) creating and describing of variable, and 2) controlling how that variable can be manipulated. The descriptors associated with all objects of a given class are called \"attributes\". Functions defined within the class definition, which can operate on any object of a given class once it is created (and only on objects of that class), are called \"methods\". When we talk about classes, we call individual examples of the class \"instances.\"\n",
    "\n",
    "It's one of those things that's much easier to show than to explain. Keep an eye out for the terms class, attribute, method, and instance, and how I use them.\n",
    "\n",
    "If you run Python 3 (as I hope most of you are), a Python class is the same as a data type, which means that integers, floats, lists, tuples, dictionaries, and Boolean values are all classes as well. For Python 2.7 and earlier, types and classes were distinguishable by the fact that Python \"types\" were also built-in types in C, which is the language of the code running your Python interpreter from behind the scenes.\n",
    "\n",
    "The unification of class and type has the mildly amusing effect of making the type of any class \"type\"."
   ]
  },
  {
   "cell_type": "code",
   "execution_count": null,
   "metadata": {},
   "outputs": [
    {
     "name": "stdout",
     "output_type": "stream",
     "text": [
      "<class 'bool'>\n",
      "<class 'type'>\n",
      "<class 'type'>\n"
     ]
    }
   ],
   "source": [
    "print(type(True))\n",
    "print(type(bool))\n",
    "print(bool.__class__)"
   ]
  },
  {
   "cell_type": "markdown",
   "metadata": {},
   "source": [
    "One of the earliest and best-known classes is the numpy.ndarray. Let's make an array so we can use its familiar attributes and methods to explain attributes and methods in general."
   ]
  },
  {
   "cell_type": "code",
   "execution_count": null,
   "metadata": {},
   "outputs": [
    {
     "name": "stdout",
     "output_type": "stream",
     "text": [
      "[ 1.  33.   6.   7.   0.5 -0.5  1.   0.  10.  10.   9.   0.2]\n",
      "<class 'numpy.ndarray'>\n"
     ]
    }
   ],
   "source": [
    "import numpy as np\n",
    "\n",
    "dummy = np.array([1.,33.,6.,7.,0.5,-0.5,1.,0,10.,10.,9,0.2])\n",
    "print(dummy)\n",
    "print(type(dummy))"
   ]
  },
  {
   "cell_type": "markdown",
   "metadata": {},
   "source": [
    "Here, dummy is an \"instance\" of class numpy.ndarray, one example of that class.\n",
    "\n",
    "Numpy.ndarray has several attributes you're probably familiar with, like .shape (which, for a 1-D array, is equivalent to its length) and transpose (.T). Attributes are like key-value pairs, if you're familiar with python dictionaries. Attributes can either be passed as arguments to the class or computed automatically upon creating an instance of the class. Regardless, you can access an attribute by simply typing the name of the variable followed by a full-stop and then the name of the attribute.\n",
    "\n",
    "Methods are called only after a class instance has been created. Again, methods are literally just functions defined inside of a class definition statement. The syntax for calling a method is similar for accessing an attribute, but like regular functions, you must include parentheses after the method name even if the method requires no arguments. Examples of methods for ndarrays include reshape(), sort(), and mean().\n",
    "\n",
    "Note that you can make arbitrarily long daisy-chains of calls to attributes and methods, in any order."
   ]
  },
  {
   "cell_type": "code",
   "execution_count": null,
   "metadata": {},
   "outputs": [
    {
     "name": "stdout",
     "output_type": "stream",
     "text": [
      "(12,)\n",
      "1\n"
     ]
    }
   ],
   "source": [
    "print(dummy.shape)\n",
    "print(dummy.ndim)"
   ]
  },
  {
   "cell_type": "code",
   "execution_count": null,
   "metadata": {},
   "outputs": [
    {
     "name": "stdout",
     "output_type": "stream",
     "text": [
      "[[ 1.  33.   6. ]\n",
      " [ 7.   0.5 -0.5]\n",
      " [ 1.   0.  10. ]\n",
      " [10.   9.   0.2]] \n",
      "\n",
      "[[ 1.   7.   1.  10. ]\n",
      " [33.   0.5  0.   9. ]\n",
      " [ 6.  -0.5 10.   0.2]] (3, 4)\n"
     ]
    }
   ],
   "source": [
    "b = dummy.reshape((4,3)) #method\n",
    "print(b,'\\n')\n",
    "print(b.T, b.T.shape) #more attributes"
   ]
  },
  {
   "cell_type": "code",
   "execution_count": null,
   "metadata": {},
   "outputs": [
    {
     "name": "stdout",
     "output_type": "stream",
     "text": [
      "[7.83333333 5.03333333]\n"
     ]
    }
   ],
   "source": [
    "print(b.reshape((2,6)).T.mean(0))"
   ]
  },
  {
   "cell_type": "markdown",
   "metadata": {},
   "source": [
    "It might be helpful to note that methods tend to require manipulating a copy of the data in memory (e.g. finding the minimum or maximum requires sorting), whereas attributes are typically different ways of viewing the original data (e.g. the transpose is just accessing the same data in a different order). You *could* have your class definition perform calculations with your data automatically for every instance, and assign the results to attributes, but it's generally a better use of computing resources to leave the calculations to your methods and only do them as needed."
   ]
  },
  {
   "cell_type": "markdown",
   "metadata": {},
   "source": [
    "## How to Define a class\n",
    "\n",
    "The first thing you have to do in a class definition is specify how new instances of the class are created. The syntax is:\n",
    "\n",
    "    class Myclass:\n",
    "        def __init__(self, args[, ...])\n",
    "            #more code\n",
    "\n",
    "Arguments of ``__init__`` (that's \"init\" with 2 underscores on each side) are what you want to require to create a new instance of this class. The first argument for ``__init__``, and all subsequent methods within the class definition, must be \"self\" in order for those functions to receive the instance of your class (or, in the case of ``__init__``, to receive the object that will become an instance of your class). Everything after that is optional. Technically a class doesn't have to have methods or attributes (but why would you create an empty class?).\n",
    "\n",
    "Let's start off with something simple: a class with one mandatory attribute, a couple optional attributes, and one method with a couple optional arguments."
   ]
  },
  {
   "cell_type": "code",
   "execution_count": null,
   "metadata": {
    "scrolled": true
   },
   "outputs": [
    {
     "name": "stdout",
     "output_type": "stream",
     "text": [
      "n_verses: 3\n",
      "which shark:  Mommy\n",
      "shark species:  None \n",
      "\n",
      "Mommy shark doo doo doo doo doo doo\n",
      "Mommy shark doo doo doo doo doo doo\n",
      "Mommy shark doo doo doo doo doo doo\n",
      "\n",
      "\n",
      "-----------------------------------------------------\n"
     ]
    }
   ],
   "source": [
    "class shark:\n",
    "    def __init__(self, n_verses, which='Baby',species=None): #'Baby' is the default value of attribute \"which\"\n",
    "        self.which = which\n",
    "        self.n_verses = n_verses\n",
    "        self.species = species\n",
    "    \n",
    "    def sing(self,family=None,segue=False):\n",
    "        if family is not None:\n",
    "            if type(family) is str:\n",
    "                family = [family] #this just lets us enter a string if we only want 2 verses\n",
    "            family.insert(0,self.which)\n",
    "        else:\n",
    "            family = [self.which]\n",
    "        for s in family:\n",
    "            for n in range(self.n_verses):\n",
    "                print('{} shark doo doo doo doo doo doo'.format(s))\n",
    "            if segue==True:\n",
    "                print('{} shark!\\n'.format(s))\n",
    "            else:\n",
    "                print('\\n')\n",
    "\n",
    "            \n",
    "a = shark(3, 'Mommy')\n",
    "print('n_verses: {}'.format(a.n_verses))\n",
    "print('which shark: ',a.which)\n",
    "print('shark species: ',a.species, '\\n') #we didn't set this\n",
    "a.sing()\n",
    "print('-----------------------------------------------------')"
   ]
  },
  {
   "cell_type": "markdown",
   "metadata": {},
   "source": [
    "You can also modify attributes post-facto, check if a class is allowed to have an attribute with the ``hasattr()`` command (helpful if you don't have the source code in front of you), add attributes that you forgot to set with the ``setattr()`` command, or delete attributes with the ``del`` or ``delattr()`` commands. Keep in mind, deleting an attribute is not the same as restoring it to a default value, and ``setattr()`` cannot create attributes that are not included in your class defininition. "
   ]
  },
  {
   "cell_type": "code",
   "execution_count": null,
   "metadata": {},
   "outputs": [
    {
     "name": "stdout",
     "output_type": "stream",
     "text": [
      "Baby shark doo doo doo doo doo doo\n",
      "Baby shark doo doo doo doo doo doo\n",
      "Baby shark!\n",
      "\n",
      "Mommy shark doo doo doo doo doo doo\n",
      "Mommy shark doo doo doo doo doo doo\n",
      "Mommy shark!\n",
      "\n",
      "Daddy shark doo doo doo doo doo doo\n",
      "Daddy shark doo doo doo doo doo doo\n",
      "Daddy shark!\n",
      "\n",
      "True False\n",
      "lemon shark\n",
      "-----------------------------------------------------\n"
     ]
    }
   ],
   "source": [
    "a.n_verses=2\n",
    "a.which='Baby' \n",
    "a.sing(['Mommy','Daddy'], segue=True)\n",
    "\n",
    "print(hasattr(a,'species'), hasattr(a,'rhythm'))\n",
    "setattr(a,'species','lemon shark')\n",
    "print(a.species)\n",
    "del a.species\n",
    "print('-----------------------------------------------------')"
   ]
  },
  {
   "cell_type": "markdown",
   "metadata": {},
   "source": [
    "As with calling class methods, when creating a new instance of a class, the class name must be followed by parentheses even if ``__init__`` has no required arguments. If n_verses was an optional attribute, you could create a new instance of class ``shark`` by setting a variable equal to ``shark()``, but if you forgot the parentheses, your variable would be equal to the class itself.\n",
    "\n",
    "That brings us to another funny little feature: you can set attributes at the class level if you forgot to add them to your class definition, and all subsequent new instances of that class will start out with that attribute. (This cannot be used to change the default values of attributes already included in the class definition.)"
   ]
  },
  {
   "cell_type": "code",
   "execution_count": null,
   "metadata": {},
   "outputs": [
    {
     "name": "stdout",
     "output_type": "stream",
     "text": [
      "serrated\n",
      "conical\n",
      "-----------------------------------------------------\n"
     ]
    }
   ],
   "source": [
    "shark.tooth='serrated'\n",
    "a=shark(4)\n",
    "print(a.tooth)\n",
    "a.tooth='conical'\n",
    "print(a.tooth)\n",
    "print('-----------------------------------------------------')"
   ]
  },
  {
   "cell_type": "markdown",
   "metadata": {},
   "source": [
    "One final comment on optional attributes: when you're creating a new instance of a class, note that both required and optional arguments are strictly positional. If you have a large number of optional attributes and you only want to set a specific one somewhere in the middle of the list, it might be better to set the attribute by name after creating the class instance.\n",
    "\n",
    "## Other Types of Methods\n",
    "So far the methods I've covered have largely been the standard kind, which take ``self`` as the first argument. But there are two other kinds of methods: Static and Class methods.\n",
    "\n",
    "Static methods don't require ``self`` as an argument, and therefore can be used at both the instance level and the class level. The syntax is pretty much what you'd expect except for one crucial detail: you must type ``@staticmethod`` on the line above the def line. As we'll discuss more later, ``@`` is used to designate what are called *decorators*, which are used to partially automate the modification of existing functions' behaviors and/or the production of new functions based on existing ones.\n",
    "\n",
    "Let's add a static method to ``shark``:"
   ]
  },
  {
   "cell_type": "code",
   "execution_count": null,
   "metadata": {},
   "outputs": [],
   "source": [
    "class shark:\n",
    "    def __init__(self, n_verses, which='Baby',species=None): #'Baby' is the default value of attribute \"which\"\n",
    "        self.which = which\n",
    "        self.n_verses = n_verses\n",
    "        self.species = species\n",
    "    \n",
    "    def sing(self,family=None,segue=False):\n",
    "        if family is not None:\n",
    "            if type(family) is str:\n",
    "                family = [family] #this just lets us enter a string if we only want 2 verses\n",
    "            family.insert(0,self.which)\n",
    "        else:\n",
    "            family = [self.which]\n",
    "        for s in family:\n",
    "            for n in range(self.n_verses):\n",
    "                print('{} shark doo doo doo doo doo doo'.format(s))\n",
    "            if segue==True:\n",
    "                print('{} shark!\\n'.format(s))\n",
    "            else:\n",
    "                print('\\n')\n",
    "                \n",
    "    @staticmethod           \n",
    "    def jaws():\n",
    "        print(\"You're gonna need a bigger boat!\")"
   ]
  },
  {
   "cell_type": "code",
   "execution_count": null,
   "metadata": {},
   "outputs": [
    {
     "name": "stdout",
     "output_type": "stream",
     "text": [
      "You're gonna need a bigger boat!\n"
     ]
    }
   ],
   "source": [
    "shark.jaws()"
   ]
  },
  {
   "cell_type": "code",
   "execution_count": null,
   "metadata": {},
   "outputs": [
    {
     "name": "stdout",
     "output_type": "stream",
     "text": [
      "You're gonna need a bigger boat!\n",
      "-----------------------------------------------------\n"
     ]
    }
   ],
   "source": [
    "a=shark(4)\n",
    "a.jaws()\n",
    "print('-----------------------------------------------------')"
   ]
  },
  {
   "cell_type": "markdown",
   "metadata": {},
   "source": [
    "Class methods receive the class, instead of an instance of the class, as their first argument. They have similar syntax to static methods in that you have to include the ``@classmethod`` decorator above the method definition. You can also invoke them at both the class and instance level.\n",
    "\n",
    "There are 2 cases when you would use @classmethod instead of @staticmethod: 1) if your static method calls other static methods (particularly in inherited classes, which I'll get to momentarily), and 2) in the construction of what are called \"factory methods\". I have neither the knowledge nor the time to cover factory methods, so instead I will refer interested readers to https://realpython.com/factory-method-python/ for a primer."
   ]
  },
  {
   "cell_type": "code",
   "execution_count": null,
   "metadata": {},
   "outputs": [],
   "source": [
    "class shark:\n",
    "    n_movies = 6\n",
    "    def __init__(self, n_verses, which='Baby',species=None): #'Baby' is the default value of attribute \"which\"\n",
    "        self.which = which\n",
    "        self.n_verses = n_verses\n",
    "        self.species = species\n",
    "    \n",
    "    def sing(self,family=None,segue=False):\n",
    "        if family is not None:\n",
    "            if type(family) is str:\n",
    "                family = [family] #this just lets us enter a string if we only want 2 verses\n",
    "            family.insert(0,self.which)\n",
    "        else:\n",
    "            family = [self.which]\n",
    "        for s in family:\n",
    "            for n in range(self.n_verses):\n",
    "                print('{} shark doo doo doo doo doo doo'.format(s))\n",
    "            if segue==True:\n",
    "                print('{} shark!\\n'.format(s))\n",
    "            else:\n",
    "                print('\\n')\n",
    "                \n",
    "    @staticmethod           \n",
    "    def jaws():\n",
    "        print(\"You're gonna need a bigger boat!\")\n",
    "        \n",
    "    @classmethod\n",
    "    def sharknado(cls):\n",
    "        print(\"There are {} Sharknado movies.\".format(cls.n_movies))"
   ]
  },
  {
   "cell_type": "code",
   "execution_count": null,
   "metadata": {},
   "outputs": [
    {
     "name": "stdout",
     "output_type": "stream",
     "text": [
      "There are 6 Sharknado movies.\n"
     ]
    }
   ],
   "source": [
    "shark.sharknado()"
   ]
  },
  {
   "cell_type": "code",
   "execution_count": null,
   "metadata": {},
   "outputs": [
    {
     "name": "stdout",
     "output_type": "stream",
     "text": [
      "There are 6 Sharknado movies.\n"
     ]
    }
   ],
   "source": [
    "a=shark(3)\n",
    "a.sharknado()"
   ]
  },
  {
   "cell_type": "code",
   "execution_count": null,
   "metadata": {},
   "outputs": [
    {
     "name": "stdout",
     "output_type": "stream",
     "text": [
      "There are 4 Sharknado movies.\n"
     ]
    }
   ],
   "source": [
    "shark.n_movies = 4\n",
    "shark.sharknado()"
   ]
  },
  {
   "cell_type": "code",
   "execution_count": null,
   "metadata": {},
   "outputs": [
    {
     "name": "stdout",
     "output_type": "stream",
     "text": [
      "There are 4 Sharknado movies.\n",
      "-----------------------------------------------------\n"
     ]
    }
   ],
   "source": [
    "a.sharknado()\n",
    "print('-----------------------------------------------------')"
   ]
  },
  {
   "cell_type": "markdown",
   "metadata": {},
   "source": [
    "This also shows that, with the right syntax, you can modify class attributes and make all instances inherit the changes. That brings us to the next topic: inheritance.\n",
    "\n",
    "## Class Inheritance\n",
    "\n",
    "You can create sub-classes that have the same methods and attributes as the main class but also have additional features. The shared features are inherited by the subclass.\n",
    "\n",
    "There are 2 ways to do it. The first way is to just define the child class with the parent class in parentheses, like so:"
   ]
  },
  {
   "cell_type": "code",
   "execution_count": null,
   "metadata": {},
   "outputs": [],
   "source": [
    "class sharkbro(shark):\n",
    "    def is_sharkbro(self):\n",
    "        if any(s in self.species for s in ['bull','tiger','great','white']):\n",
    "            print('Danger! This species is one of the 4 responsible for most fatal attacks!')\n",
    "        elif any(s in self.species for s in ['tip','reef','blue','mako','lemon','silky','hammerhead']):\n",
    "            print('Not one of the fatal 4, but still known to attack.')\n",
    "        else:\n",
    "            print('No known fatal attacks. Proceed with caution.')\n",
    "        "
   ]
  },
  {
   "cell_type": "code",
   "execution_count": null,
   "metadata": {},
   "outputs": [
    {
     "name": "stdout",
     "output_type": "stream",
     "text": [
      "Not one of the fatal 4, but still known to attack.\n",
      "-----------------------------------------------------\n"
     ]
    }
   ],
   "source": [
    "a=sharkbro(2,'Daddy','mako')\n",
    "a.is_sharkbro()\n",
    "print('-----------------------------------------------------')"
   ]
  },
  {
   "cell_type": "code",
   "execution_count": null,
   "metadata": {},
   "outputs": [
    {
     "name": "stdout",
     "output_type": "stream",
     "text": [
      "Daddy shark doo doo doo doo doo doo\n",
      "Daddy shark doo doo doo doo doo doo\n",
      "\n",
      "\n"
     ]
    }
   ],
   "source": [
    "a.sing()"
   ]
  },
  {
   "cell_type": "markdown",
   "metadata": {},
   "source": [
    "However, if you include an ``__init__  `` statement in a subclass defined this way, you'll override the properties of the parent class. So what do you do if you want to, say, add required attributes but not change what is already included?\n",
    "\n",
    "You either include a call to the parent function, or more succinctly, use the ``super()`` function:"
   ]
  },
  {
   "cell_type": "code",
   "execution_count": null,
   "metadata": {},
   "outputs": [],
   "source": [
    "class dancing_shark(shark):\n",
    "    def __init__(self, n_verses, orientation, which='Baby', species=None):\n",
    "        super().__init__(n_verses, which, species) #you could replace 'super().__init__(' with 'shark().__init__(self,'\n",
    "        self.orientation = orientation\n",
    "    \n",
    "    def sing(self):\n",
    "        print('{} shark doo doo doo doo doo doo'.format(self.orientation))"
   ]
  },
  {
   "cell_type": "code",
   "execution_count": null,
   "metadata": {},
   "outputs": [
    {
     "name": "stdout",
     "output_type": "stream",
     "text": [
      "left\n",
      "left shark doo doo doo doo doo doo\n"
     ]
    }
   ],
   "source": [
    "a=dancing_shark(2,'left')\n",
    "print(a.orientation)\n",
    "a.sing()"
   ]
  },
  {
   "cell_type": "markdown",
   "metadata": {},
   "source": [
    "Note that you can insert the sub-class-specific attributes anywhere in the list of attributes after ``self``. However, **note also that optional attributes must be defined again in the first ``__init__`` statement of the sub-class in order to stay optional.** \n",
    "(I experimented with this a bit and I'm still couldn't tell you why it only works this way. Leaving \"which\" and \"species\" out of the def ``__init__`` statement makes the class definition fail, defining their default values in the ``super()`` statement gives an attribute error saying the attribute is multiply-defined, and leaving the default values out of the first ``__init__`` statement made them *required* for the subclass).\n",
    "\n",
    "Regardless of which method you use to pass properties of a parent class to a subclass, if you redefine a method in your subclass, the new method definition in the subclass overrides the method definition in the main class."
   ]
  },
  {
   "cell_type": "markdown",
   "metadata": {},
   "source": [
    "## Encapsulation and Attribute Access\n",
    "\n",
    "What if you want to define a class with attributes that are fixed at instantiation, so you or another user of your program can't edit them once they are set? If you don't need to access the attribute directly later, you can use *private attributes*. The syntax for these is also simple: just add two underscores between ``self.`` and the name of the variable. (For brevity, I'll drop the static and class methods we added earlier.)"
   ]
  },
  {
   "cell_type": "code",
   "execution_count": null,
   "metadata": {},
   "outputs": [],
   "source": [
    "class shark:\n",
    "    def __init__(self, n_verses, which='Baby', species=None, gender=None): #'Baby' is the default value of attribute \"which\"\n",
    "        self.which = which\n",
    "        self.n_verses = n_verses\n",
    "        self.species = species\n",
    "        if gender is None:\n",
    "            if which in ['Mommy', 'Grandma']:\n",
    "                self.__gender = 'female'\n",
    "            elif which in ['Daddy', 'Grandpa']:\n",
    "                self.__gender = 'male'\n",
    "            else:\n",
    "                self.__gender = \"nobody's business\"\n",
    "    \n",
    "    def sing(self,family=None,segue=False):\n",
    "        if family is not None:\n",
    "            if type(family) is str:\n",
    "                family = [family] #this just lets us enter a string if we only want 2 verses\n",
    "            family.insert(0,self.which)\n",
    "        else:\n",
    "            family = [self.which]\n",
    "        for s in family:\n",
    "            for n in range(self.n_verses):\n",
    "                print('{} shark doo doo doo doo doo doo'.format(s))\n",
    "            if segue==True:\n",
    "                print('{} shark!\\n'.format(s))\n",
    "            else:\n",
    "                print('\\n')"
   ]
  },
  {
   "cell_type": "code",
   "execution_count": null,
   "metadata": {},
   "outputs": [],
   "source": [
    "b=shark(1,gender='nonbinary')\n",
    "print(b.gender)"
   ]
  },
  {
   "cell_type": "code",
   "execution_count": null,
   "metadata": {},
   "outputs": [],
   "source": [
    "print(b.__gender)"
   ]
  },
  {
   "cell_type": "markdown",
   "metadata": {},
   "source": [
    "So now the private variable \"gender\" is set, but we can't access it using either the regular variable name or the internal attribute \"__gender\". We've successfully encapsulated it, i.e., we've protected the internal instance from the user of an object of this class...\n",
    "\n",
    "...but now they can't see it even if they need to. How do we let a user view a private variable?\n",
    "\n",
    "We add another class method to return the values, a brief one that takes \"self\" as an argument and returns the private attribute."
   ]
  },
  {
   "cell_type": "code",
   "execution_count": null,
   "metadata": {},
   "outputs": [],
   "source": [
    "class shark:\n",
    "    def __init__(self, n_verses, which='Baby', species=None, gender=None): #'Baby' is the default value of attribute \"which\"\n",
    "        self.which = which\n",
    "        self.n_verses = n_verses\n",
    "        self.species = species\n",
    "        if gender is None:\n",
    "            if which in ['Mommy', 'Grandma']:\n",
    "                self.__gender = 'female'\n",
    "            elif which in ['Daddy', 'Grandpa']:\n",
    "                self.__gender = 'male'\n",
    "            else:\n",
    "                self.__gender = \"nobody's business\"\n",
    "    \n",
    "    def gender(self):\n",
    "        return self.__gender\n",
    "    \n",
    "    def sing(self, family=None, segue=False):\n",
    "        if family is not None:\n",
    "            if type(family) is str:\n",
    "                family = [family] #this just lets us enter a string if we only want 2 verses\n",
    "            family.insert(0,self.which)\n",
    "        else:\n",
    "            family = [self.which]\n",
    "        for s in family:\n",
    "            for n in range(self.n_verses):\n",
    "                print('{} shark doo doo doo doo doo doo'.format(s))\n",
    "            if segue==True:\n",
    "                print('{} shark!\\n'.format(s))\n",
    "            else:\n",
    "                print('\\n')"
   ]
  },
  {
   "cell_type": "code",
   "execution_count": null,
   "metadata": {},
   "outputs": [],
   "source": [
    "b = shark(1, gender = 'nonbinary')\n",
    "print(b.gender())"
   ]
  },
  {
   "cell_type": "markdown",
   "metadata": {},
   "source": [
    "#### Set and Get Methods\n",
    "\n",
    "In Python it's often a good idea to design class attributes such that accessing and setting them avoids the assignment operator, which is easily mishandled. This typically means encapsulating variables and then defining class methods to get and/or set them. This puts a layer of abstraction between the user and internal copy of the variable and makes the acts of accessing or setting the variables more deliberate, and crucially, **allows the creator of the class to put constraints on the allowed values that the user can assign to a given attribute.** \n",
    "\n",
    "For the sake of further demonstration, I will also make \"species\" a private attribute."
   ]
  },
  {
   "cell_type": "code",
   "execution_count": null,
   "metadata": {},
   "outputs": [],
   "source": [
    "slur_corpus = \"Too risky to input manually and not worth the trouble of finding a corpus right now.\".split('')\n",
    "# maybe I'll come back later and edit this with a real corpus from some fancy LLM package, but this will do for demo purposes.\n",
    "\n",
    "class shark:\n",
    "    def __init__(self, n_verses, which='Baby', species=None, gender=None): #'Baby' is the default value of attribute \"which\"\n",
    "        self.which = which\n",
    "        self.n_verses = n_verses\n",
    "        self.__species = set_species(species)\n",
    "        self.__gender = set_gender(gender)\n",
    "\n",
    "    def set_gender(self, value): #setter 1 with filter\n",
    "        if value is None:\n",
    "            if self.which in ['Mommy', 'Grandma', 'Sister']:\n",
    "                self.__gender = 'female'\n",
    "            elif which in ['Daddy', 'Grandpa', 'Brother']:\n",
    "                self.__gender = 'male'\n",
    "            else:\n",
    "                self.__gender = 'undeclared'\n",
    "        elif value in slur_corpus or any(s in value.lower() for s in ['attack','helicopter','mayonnaise']):\n",
    "            #if you understand why I included those last 3 strings, you have my condolences\n",
    "            raise ValueError('Class shark() does not accept abusive language.')\n",
    "        elif type(value) is not str:\n",
    "            raise TypeError('Attribute \"gender\" must be a string or None.')\n",
    "        else:\n",
    "            self.__gender = value\n",
    "        \n",
    "    def set_species(self, value): #setter 2\n",
    "        if value is not None and type(value) is not str:\n",
    "            raise TypeError('Attribute \"species\" must be a string or None.')\n",
    "        else:\n",
    "            self.__species = value\n",
    "\n",
    "    def set_deets(self, species, gender):\n",
    "        self.__species = self.set_species(species)\n",
    "        #self.__gender = gender\n",
    "        self.__gender = self.set_gender(gender) #this line is experimental\n",
    "\n",
    "    def species(self): #getter 1\n",
    "        return self.__species   \n",
    "    \n",
    "    def gender(self): #getter 2\n",
    "        return self.__gender\n",
    "    \n",
    "    def sing(self, family=None, segue=False):\n",
    "        if family is not None:\n",
    "            if type(family) is str:\n",
    "                family = [family] #this just lets us enter a string if we only want 2 verses\n",
    "            family.insert(0,self.which)\n",
    "        else:\n",
    "            family = [self.which]\n",
    "        for s in family:\n",
    "            for n in range(self.n_verses):\n",
    "                print('{} shark doo doo doo doo doo doo'.format(s))\n",
    "            if segue==True:\n",
    "                print('{} shark!\\n'.format(s))\n",
    "            else:\n",
    "                print('\\n')"
   ]
  },
  {
   "cell_type": "code",
   "execution_count": null,
   "metadata": {},
   "outputs": [],
   "source": [
    "c = shark(2,'Cousin',species='mako',gender='female')\n",
    "print(c.species())\n",
    "\n",
    "c.set_deets('lemon','nonbinary')\n",
    "print(c.gender())\n",
    "print(c.species())"
   ]
  },
  {
   "cell_type": "markdown",
   "metadata": {},
   "source": [
    "## Decorators\n",
    "\n",
    "Before we describe decorators in terms of class definitions, let's back up and consider functions. If you've ever done model fitting (e.g. fitting a function with ``scipy.optimize.curve_fit()``) or used ``functools.partial()``, you know that functions can be passed as arguments to other functions, just like any other object. A function that takes other functions as arguments to modify their behavior is what's called a *wrapper*.\n",
    "\n",
    "Defining and wrapping functions can get very long-winded and messy, so decorators were created to streamline the process.\n",
    "\n",
    "Let's take the ``sing()`` out of ``shark()`` for a quick demo:"
   ]
  },
  {
   "cell_type": "code",
   "execution_count": null,
   "metadata": {},
   "outputs": [],
   "source": [
    "vs=['Baby','Mommy','Daddy','Grandma','Grandpa',\"Let's go hunt\",'Run away','Safe at last',\"It's the end\"]\n",
    "\n",
    "def sing(nv=None):\n",
    "    nv = random.randint(1,len(vs)-1) if nv is None else nv\n",
    "    for s in v[0:nv]:\n",
    "        for i in range(3):\n",
    "            print('{}{} doo doo doo-doo doo-doo\\n'.format(s,' Shark' if ' ' not in s else \"\"))\n",
    "        print('{} shark!\\n\\n'.format(s))\n",
    "    return None\n",
    "\n",
    "from datetime import datetime\n",
    "import random\n",
    "\n",
    "def stop4night(fxn):\n",
    "    def wrapper(*args,**kwargs):\n",
    "        print('Dun dun dun dun duh-dun duh-dun duh-dun duh-dun\\n')\n",
    "        if 8<=datetime<22:\n",
    "            return(\"Hey, people are tryin' ta sleep here!\")\n",
    "        else:\n",
    "            return fxn(*args,**kwargs)     \n",
    "\n",
    "sing = stop4night(sing)"
   ]
  },
  {
   "cell_type": "markdown",
   "metadata": {},
   "source": [
    "At this point you're probably wondering why I bothered nesting wrapper under the ``stop4night(fxn)`` definition line instead of putting fxn as the first arg of ``wrapper()``. You'll see why in a moment.\n",
    "\n",
    "The outermost function around ``wrapper()`` and the last line comprise the decorator. This code block tells Python to wrap function ``sing()`` with ``stop4night()`` so that anyone who tries to start \"singing\" at night will get shouted down. Note that passing args and kwargs through the wrapper to the wrapped function requires ``*args, **kwargs`` in the () of both the inner function and the wrapper. If there are no args or kwargs to pass, those two sets of () can be left empty.\n",
    "\n",
    "There's a better way to write this, though, using the ``@ ``symbol (aka Pie syntax): Put the wrapping function first, then wrap the wrapper and use ``@`` to reference this top-level function as shown below:"
   ]
  },
  {
   "cell_type": "code",
   "execution_count": null,
   "metadata": {},
   "outputs": [],
   "source": [
    "vs=['Baby','Mommy','Daddy','Grandma','Grandpa',\"Let's go hunt\",'Run away','Safe at last',\"It's the end\"]\n",
    "from datetime import datetime\n",
    "import random\n",
    "\n",
    "def stop4night(fxn): #decorator part 1\n",
    "    def wrapper(*args,**kwargs): #wrapper\n",
    "        print('Dun dun dun dun duh-dun duh-dun duh-dun duh-dun\\n')\n",
    "        if 8<=datetime<22:\n",
    "            return(\"Hey, people are tryin' ta sleep here!\")\n",
    "        else:\n",
    "            return fxn(*args,**kwargs) \n",
    "\n",
    "@ stop4night #decorator part 2\n",
    "def sing(nv=None): #function to wrap & decorate\n",
    "    nv = random.randint(1,len(vs)-1) if nv is None else nv\n",
    "    for s in v[0:nv]:\n",
    "        for i in range(3):\n",
    "            print('{}{} doo doo doo-doo doo-doo\\n'.format(s,' Shark' if ' ' not in s else \"\"))\n",
    "        print('{} shark!\\n\\n'.format(s))\n",
    "    return None"
   ]
  },
  {
   "cell_type": "markdown",
   "metadata": {},
   "source": [
    "We also saw this at work with the ``@staticmethod`` and ``@classmethod`` decorators, which modify the internal method generator code that handles ``def`` blocks within classes.\n",
    "\n",
    "For more on decorators, I encourage readers to view https://realpython.com/primer-on-python-decorators/ and https://docs.python.org/3/library/functools.html. For now, just note that Python has some built-in decorators for various purposes, and many more that you can load with module ``functools``.\n",
    "\n",
    "Now we can get back to our class definitions. Besides the ``@staticmethod`` and ``@classmethod`` decorators, Python has two more decorators set aside for assigning class attributes: ``@property`` and ``@VAR.setter`` (where VAR is the name of a variable).\n",
    "- ``@property`` takes a function method and creates a read-only attribute for the class. It's actually shorthand for ... (to do: incorporate material from https://www.programiz.com/python-programming/property)\n",
    "- ``@VAR.setter`` \n",
    "\n",
    "⚠️UNDER CONSTRUCTION (please bear with me)⚠️\n"
   ]
  }
 ],
 "metadata": {
  "kernelspec": {
   "display_name": "Python 3 (ipykernel)",
   "language": "python",
   "name": "python3"
  },
  "language_info": {
   "codemirror_mode": {
    "name": "ipython",
    "version": 3
   },
   "file_extension": ".py",
   "mimetype": "text/x-python",
   "name": "python",
   "nbconvert_exporter": "python",
   "pygments_lexer": "ipython3",
   "version": "3.9.15"
  }
 },
 "nbformat": 4,
 "nbformat_minor": 2
}
